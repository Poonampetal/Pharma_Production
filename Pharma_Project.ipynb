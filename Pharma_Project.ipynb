{
 "cells": [
  {
   "cell_type": "code",
   "execution_count": 171,
   "id": "7583b5b2-c4eb-4990-8ccd-18777d499521",
   "metadata": {},
   "outputs": [],
   "source": [
    "import pandas as pd\n",
    "import numpy as np\n"
   ]
  },
  {
   "cell_type": "code",
   "execution_count": 249,
   "id": "d78b7ac6-8047-48b8-a457-15e6daeb7335",
   "metadata": {},
   "outputs": [],
   "source": [
    "#Load Dataset\n",
    "\n",
    "df_feedback = pd.read_csv('Customer_Feedback.csv')\n",
    "df_inventory = pd.read_csv(\"Inventory.csv\")\n",
    "df_production = pd.read_csv(\"Production_Orders.csv\")\n",
    "df_sales = pd.read_csv(\"Sales.csv\")\n",
    "df_shipments = pd.read_csv(\"Shipments.csv\")\n",
    "df_suppliers = pd.read_csv(\"Suppliers.csv\")\n"
   ]
  },
  {
   "cell_type": "code",
   "execution_count": 251,
   "id": "d1e8fe83-b3d6-4e7b-a13e-cdd24f5543ae",
   "metadata": {},
   "outputs": [
    {
     "data": {
      "text/html": [
       "<div>\n",
       "<style scoped>\n",
       "    .dataframe tbody tr th:only-of-type {\n",
       "        vertical-align: middle;\n",
       "    }\n",
       "\n",
       "    .dataframe tbody tr th {\n",
       "        vertical-align: top;\n",
       "    }\n",
       "\n",
       "    .dataframe thead th {\n",
       "        text-align: right;\n",
       "    }\n",
       "</style>\n",
       "<table border=\"1\" class=\"dataframe\">\n",
       "  <thead>\n",
       "    <tr style=\"text-align: right;\">\n",
       "      <th></th>\n",
       "      <th>Sale_ID</th>\n",
       "      <th>Product_ID</th>\n",
       "      <th>Sale_Date</th>\n",
       "      <th>Quantity_Sold</th>\n",
       "      <th>Revenue</th>\n",
       "      <th>Region</th>\n",
       "    </tr>\n",
       "  </thead>\n",
       "  <tbody>\n",
       "    <tr>\n",
       "      <th>0</th>\n",
       "      <td>SA006</td>\n",
       "      <td>INV006</td>\n",
       "      <td>2024-01-27</td>\n",
       "      <td>300</td>\n",
       "      <td>$1,700</td>\n",
       "      <td>Mumbai</td>\n",
       "    </tr>\n",
       "    <tr>\n",
       "      <th>1</th>\n",
       "      <td>SA007</td>\n",
       "      <td>INV007</td>\n",
       "      <td>2024-01-29</td>\n",
       "      <td>150</td>\n",
       "      <td>$1,200</td>\n",
       "      <td>Kolkata</td>\n",
       "    </tr>\n",
       "    <tr>\n",
       "      <th>2</th>\n",
       "      <td>SA008</td>\n",
       "      <td>INV008</td>\n",
       "      <td>2024-02-01</td>\n",
       "      <td>250</td>\n",
       "      <td>$2,100</td>\n",
       "      <td>Noida</td>\n",
       "    </tr>\n",
       "    <tr>\n",
       "      <th>3</th>\n",
       "      <td>SA009</td>\n",
       "      <td>INV009</td>\n",
       "      <td>2024-02-03</td>\n",
       "      <td>200</td>\n",
       "      <td>$1,600</td>\n",
       "      <td>Lucknow</td>\n",
       "    </tr>\n",
       "    <tr>\n",
       "      <th>4</th>\n",
       "      <td>SA010</td>\n",
       "      <td>INV010</td>\n",
       "      <td>2024-02-05</td>\n",
       "      <td>350</td>\n",
       "      <td>$2,500</td>\n",
       "      <td>Ahmedabad</td>\n",
       "    </tr>\n",
       "  </tbody>\n",
       "</table>\n",
       "</div>"
      ],
      "text/plain": [
       "  Sale_ID Product_ID   Sale_Date  Quantity_Sold Revenue     Region\n",
       "0   SA006     INV006  2024-01-27            300  $1,700     Mumbai\n",
       "1   SA007     INV007  2024-01-29            150  $1,200    Kolkata\n",
       "2   SA008     INV008  2024-02-01            250  $2,100      Noida\n",
       "3   SA009     INV009  2024-02-03            200  $1,600    Lucknow\n",
       "4   SA010     INV010  2024-02-05            350  $2,500  Ahmedabad"
      ]
     },
     "execution_count": 251,
     "metadata": {},
     "output_type": "execute_result"
    }
   ],
   "source": [
    "#Display first few rows\n",
    "df_sales.head()"
   ]
  },
  {
   "cell_type": "code",
   "execution_count": 253,
   "id": "e953cc47-9db4-4e21-ab8b-ebba2052ab2d",
   "metadata": {},
   "outputs": [],
   "source": [
    "#Convert date columns to datetime\n",
    "\n",
    "date_columns = { \"df_feedback\": [\"Feedback_Date\"],\n",
    "    \"df_production\": [\"Order_Date\", \"Completion_Date\"],\n",
    "    \"df_sales\": [\"Sale_Date\"],\n",
    "    \"df_shipments\": [\"Shipping_Date\", \"Delivery_Date\"],}\n",
    "\n",
    "for df_name, cols in date_columns.items():\n",
    "    df = globals()[df_name]  # Get the dataframe\n",
    "    for col in cols:\n",
    "        df[col] = pd.to_datetime(df[col], errors='coerce')\n"
   ]
  },
  {
   "cell_type": "code",
   "execution_count": 255,
   "id": "96897165-6acb-4693-983f-200eb800fb2b",
   "metadata": {},
   "outputs": [
    {
     "data": {
      "text/plain": [
       "Feedback_ID                object\n",
       "Product_ID                 object\n",
       "Customer_Rating           float64\n",
       "Feedback_Date      datetime64[ns]\n",
       "Comments                   object\n",
       "dtype: object"
      ]
     },
     "execution_count": 255,
     "metadata": {},
     "output_type": "execute_result"
    }
   ],
   "source": [
    "# Check the changes\n",
    "\n",
    "df_feedback.dtypes"
   ]
  },
  {
   "cell_type": "code",
   "execution_count": 257,
   "id": "b6f536ca-72a3-43eb-947b-835016b4b06c",
   "metadata": {},
   "outputs": [],
   "source": [
    "# Remove \"$\" sign from Revenue and Shipping Cost, then convert to float\n",
    "\n",
    "df_sales[\"Revenue\"] = df_sales[\"Revenue\"].replace('[$,]', '', regex=True).astype(int)\n",
    "df_shipments[\"Shipping_Cost\"] = df_shipments[\"Shipping_Cost\"].replace('[$,]', '', regex=True).astype(int)\n"
   ]
  },
  {
   "cell_type": "code",
   "execution_count": 259,
   "id": "ddd119b5-9f06-43a3-88e1-dc23396e6f8c",
   "metadata": {},
   "outputs": [
    {
     "data": {
      "text/html": [
       "<div>\n",
       "<style scoped>\n",
       "    .dataframe tbody tr th:only-of-type {\n",
       "        vertical-align: middle;\n",
       "    }\n",
       "\n",
       "    .dataframe tbody tr th {\n",
       "        vertical-align: top;\n",
       "    }\n",
       "\n",
       "    .dataframe thead th {\n",
       "        text-align: right;\n",
       "    }\n",
       "</style>\n",
       "<table border=\"1\" class=\"dataframe\">\n",
       "  <thead>\n",
       "    <tr style=\"text-align: right;\">\n",
       "      <th></th>\n",
       "      <th>Sale_ID</th>\n",
       "      <th>Product_ID</th>\n",
       "      <th>Sale_Date</th>\n",
       "      <th>Quantity_Sold</th>\n",
       "      <th>Revenue</th>\n",
       "      <th>Region</th>\n",
       "    </tr>\n",
       "  </thead>\n",
       "  <tbody>\n",
       "    <tr>\n",
       "      <th>0</th>\n",
       "      <td>SA006</td>\n",
       "      <td>INV006</td>\n",
       "      <td>2024-01-27</td>\n",
       "      <td>300</td>\n",
       "      <td>1700</td>\n",
       "      <td>Mumbai</td>\n",
       "    </tr>\n",
       "    <tr>\n",
       "      <th>1</th>\n",
       "      <td>SA007</td>\n",
       "      <td>INV007</td>\n",
       "      <td>2024-01-29</td>\n",
       "      <td>150</td>\n",
       "      <td>1200</td>\n",
       "      <td>Kolkata</td>\n",
       "    </tr>\n",
       "    <tr>\n",
       "      <th>2</th>\n",
       "      <td>SA008</td>\n",
       "      <td>INV008</td>\n",
       "      <td>2024-02-01</td>\n",
       "      <td>250</td>\n",
       "      <td>2100</td>\n",
       "      <td>Noida</td>\n",
       "    </tr>\n",
       "    <tr>\n",
       "      <th>3</th>\n",
       "      <td>SA009</td>\n",
       "      <td>INV009</td>\n",
       "      <td>2024-02-03</td>\n",
       "      <td>200</td>\n",
       "      <td>1600</td>\n",
       "      <td>Lucknow</td>\n",
       "    </tr>\n",
       "    <tr>\n",
       "      <th>4</th>\n",
       "      <td>SA010</td>\n",
       "      <td>INV010</td>\n",
       "      <td>2024-02-05</td>\n",
       "      <td>350</td>\n",
       "      <td>2500</td>\n",
       "      <td>Ahmedabad</td>\n",
       "    </tr>\n",
       "  </tbody>\n",
       "</table>\n",
       "</div>"
      ],
      "text/plain": [
       "  Sale_ID Product_ID  Sale_Date  Quantity_Sold  Revenue     Region\n",
       "0   SA006     INV006 2024-01-27            300     1700     Mumbai\n",
       "1   SA007     INV007 2024-01-29            150     1200    Kolkata\n",
       "2   SA008     INV008 2024-02-01            250     2100      Noida\n",
       "3   SA009     INV009 2024-02-03            200     1600    Lucknow\n",
       "4   SA010     INV010 2024-02-05            350     2500  Ahmedabad"
      ]
     },
     "execution_count": 259,
     "metadata": {},
     "output_type": "execute_result"
    }
   ],
   "source": [
    "df_sales.head()"
   ]
  },
  {
   "cell_type": "code",
   "execution_count": 261,
   "id": "add03383-a47b-40f2-baf3-3e3f1500b4a6",
   "metadata": {},
   "outputs": [],
   "source": [
    "# Fill missing values with NaN where necessary\n",
    "\n",
    "df_feedback.fillna(np.nan, inplace=True)\n",
    "df_production.fillna(np.nan, inplace=True)\n",
    "df_sales.fillna(np.nan, inplace=True)\n",
    "df_shipments.fillna(np.nan, inplace=True)\n",
    "df_suppliers.fillna(np.nan, inplace=True)\n"
   ]
  },
  {
   "cell_type": "code",
   "execution_count": 263,
   "id": "25a43415-3f6a-42d6-8656-6be93d3e8224",
   "metadata": {},
   "outputs": [
    {
     "data": {
      "text/plain": [
       "Index(['Order_ID', 'Product_ID', 'Quantity_Ordered', 'Order_Date',\n",
       "       'Completion_Date', 'Status'],\n",
       "      dtype='object')"
      ]
     },
     "execution_count": 263,
     "metadata": {},
     "output_type": "execute_result"
    }
   ],
   "source": [
    "# check column names\n",
    "\n",
    "df_production.columns"
   ]
  },
  {
   "cell_type": "markdown",
   "id": "a6410f83-b576-4cb1-a413-27cfe8a5d971",
   "metadata": {},
   "source": [
    "Exploratory Data Analysis"
   ]
  },
  {
   "cell_type": "markdown",
   "id": "14bce2ca-73f5-4813-9db0-d419be7b2ebb",
   "metadata": {},
   "source": [
    "1)Top-Selling Products & Trends"
   ]
  },
  {
   "cell_type": "code",
   "execution_count": 325,
   "id": "84cc4782-b755-45cf-9f01-57d3b68aaf2c",
   "metadata": {},
   "outputs": [
    {
     "name": "stdout",
     "output_type": "stream",
     "text": [
      "Product_Name\n",
      "Calcium Tablets           350\n",
      "Anti-Dandruff Shampoo     340\n",
      "Energy Boost Tablets      330\n",
      "Omega 3 Fish Oil          320\n",
      "Antibacterial Soap        320\n",
      "Iron Tablets              310\n",
      "Blood Pressure Tablets    310\n",
      "Vitamin A Drops           300\n",
      "Muscle Pain Balm          300\n",
      "Glucose Powder            300\n",
      "Name: Quantity_Sold, dtype: int64\n"
     ]
    }
   ],
   "source": [
    "\n",
    "# Merge Sales with Inventory to get Product Names\n",
    "df_sales_merged = df_sales.merge(df_inventory[[\"Product_ID\", \"Product_Name\"]], on=\"Product_ID\", how=\"left\")\n",
    "\n",
    "# Aggregate sales by product with product names\n",
    "top_selling = df_sales_merged.groupby([\"Product_Name\"])[\"Quantity_Sold\"].sum().sort_values(ascending=False)\n",
    "\n",
    "print(top_selling.head(10))  # Display Top 10 Selling Products\n",
    "\n"
   ]
  },
  {
   "cell_type": "markdown",
   "id": "8292a686-edcd-4d18-a1c9-cee0273cd337",
   "metadata": {},
   "source": [
    "2) Suppliers With the Most Delays"
   ]
  },
  {
   "cell_type": "code",
   "execution_count": 345,
   "id": "c8f7bb65-be31-4a5a-9204-39663f105595",
   "metadata": {},
   "outputs": [
    {
     "name": "stdout",
     "output_type": "stream",
     "text": [
      "Supplier_ID  Supplier_Name  \n",
      "SUP023       EssentialChem      11.0\n",
      "SUP022       SpeedLogistics     11.0\n",
      "SUP021       HealthChemicals    11.0\n",
      "SUP020       FastPack           11.0\n",
      "SUP019       ChemReliable       11.0\n",
      "SUP006       PharmaPlus         10.0\n",
      "SUP030       PackExcellence     10.0\n",
      "SUP007       PackWell           10.0\n",
      "SUP029       RapidMaterials     10.0\n",
      "SUP031       ChemSupply         10.0\n",
      "Name: Production_Delay_Days, dtype: float64\n"
     ]
    }
   ],
   "source": [
    "\n",
    "# Drop duplicate Supplier_Name column if it exists before merging\n",
    "if \"Supplier_Name\" in df_merged.columns:\n",
    "    df_merged.drop(columns=[\"Supplier_Name\"], inplace=True)\n",
    "\n",
    "# Merge Suppliers Data to Get Supplier Name\n",
    "df_merged = df_merged.merge(df_suppliers[[\"Supplier_ID\", \"Supplier_Name\"]], on=\"Supplier_ID\", how=\"left\")\n",
    "\n",
    "# Aggregate Supplier Delays with Supplier Names\n",
    "supplier_delays = df_merged.groupby([\"Supplier_ID\", \"Supplier_Name\"]) [\"Production_Delay_Days\"].mean().sort_values(ascending=False)\n",
    "\n",
    "print(supplier_delays)\n",
    "\n"
   ]
  },
  {
   "cell_type": "markdown",
   "id": "9ab5aa14-40ff-4ed1-af6f-41fdf91da812",
   "metadata": {},
   "source": [
    "The results identifies the suppliers with the highest average production delays and that could be unreliable.\n"
   ]
  },
  {
   "cell_type": "markdown",
   "id": "309c8b0e-9f12-4c5f-a9d4-711fd0b98ed3",
   "metadata": {},
   "source": [
    "3) Which Regions Generate the Highest Sales?"
   ]
  },
  {
   "cell_type": "code",
   "execution_count": 347,
   "id": "6628601d-4936-426b-8ac8-d1bc84b91cc1",
   "metadata": {},
   "outputs": [
    {
     "name": "stdout",
     "output_type": "stream",
     "text": [
      "Region\n",
      "Vijayawada    3000\n",
      "Aurangabad    2800\n",
      "Jaipur        2800\n",
      "Siliguri      2700\n",
      "Mysore        2700\n",
      "Name: Revenue, dtype: int64\n"
     ]
    }
   ],
   "source": [
    "\n",
    "sales_by_region = df_sales.groupby(\"Region\")[\"Revenue\"].sum().sort_values(ascending=False)\n",
    "\n",
    "print(sales_by_region.head(5))\n"
   ]
  },
  {
   "cell_type": "markdown",
   "id": "c3f8d2f1-452e-4a6b-95e4-ca8f71d68955",
   "metadata": {},
   "source": [
    "The result helps us target high-revenue regions for better inventory distribution."
   ]
  },
  {
   "cell_type": "markdown",
   "id": "208377b0-a385-4308-bbe0-0cf1cf2af81e",
   "metadata": {},
   "source": [
    "4) Analyzing Supplier Lead Time vs. Production Delays"
   ]
  },
  {
   "cell_type": "code",
   "execution_count": 267,
   "id": "96f808d6-7456-436e-ac96-a95ee70efa63",
   "metadata": {},
   "outputs": [],
   "source": [
    "\n",
    "# Calculate Production Delay (Completion Date - Order Date)\n",
    "df_production[\"Production_Delay_Days\"] = (df_production[\"Completion_Date\"] - df_production[\"Order_Date\"]).dt.days\n"
   ]
  },
  {
   "cell_type": "markdown",
   "id": "bed340dd-b5dd-4fbe-a794-75d7a03219ef",
   "metadata": {},
   "source": [
    " Merge Production Orders with Suppliers"
   ]
  },
  {
   "cell_type": "code",
   "execution_count": 270,
   "id": "570b972d-dbd2-4f92-90ae-f82a1069db30",
   "metadata": {},
   "outputs": [],
   "source": [
    "# Merge Production Orders with Inventory (to get Supplier_ID)\n",
    "df_merged = df_production.merge(df_inventory, on=\"Product_ID\", how=\"left\")\n",
    "\n",
    "# Merge with Suppliers to get Lead Time\n",
    "df_merged = df_merged.merge(df_suppliers, on=\"Supplier_ID\", how=\"left\")\n"
   ]
  },
  {
   "cell_type": "markdown",
   "id": "8fc2531f-ec0f-47ec-92be-0ae61de8c3cc",
   "metadata": {},
   "source": [
    "Compute Correlation Between Lead Time & Production Delay"
   ]
  },
  {
   "cell_type": "code",
   "execution_count": 273,
   "id": "2ba790e2-9fdb-4346-a0a9-9b9d5798bd28",
   "metadata": {},
   "outputs": [
    {
     "name": "stdout",
     "output_type": "stream",
     "text": [
      "                       Lead_Time_Days  Production_Delay_Days\n",
      "Lead_Time_Days               1.000000              -0.043918\n",
      "Production_Delay_Days       -0.043918               1.000000\n"
     ]
    }
   ],
   "source": [
    "# Compute correlation\n",
    "correlation = df_merged[[\"Lead_Time_Days\", \"Production_Delay_Days\"]].corr()\n",
    "\n",
    "print(correlation)\n"
   ]
  },
  {
   "cell_type": "markdown",
   "id": "c1cbc70b-1dfa-4454-8666-d451372be220",
   "metadata": {},
   "source": [
    "This result shows -0.044, which is very weak negative correlation. \n",
    "This means longer supplier lead times do not strongly impact production delays."
   ]
  },
  {
   "cell_type": "code",
   "execution_count": 276,
   "id": "126645fa-1d50-4a6c-b794-48a4b1794cb1",
   "metadata": {},
   "outputs": [],
   "source": [
    "import matplotlib.pyplot as plt\n",
    "import seaborn as sns"
   ]
  },
  {
   "cell_type": "code",
   "execution_count": 278,
   "id": "de554ed6-d7f4-4de4-96ba-c17071a07dfe",
   "metadata": {},
   "outputs": [
    {
     "data": {
      "image/png": "[encoded data removed]",
      "text/plain": [
       "<Figure size 700x400 with 1 Axes>"
      ]
     },
     "metadata": {},
     "output_type": "display_data"
    }
   ],
   "source": [
    "# Scatter plot: Supplier Lead Time vs. Production Delay\n",
    "\n",
    "\n",
    "plt.figure(figsize=(7, 4))\n",
    "sns.scatterplot(x=df_merged[\"Lead_Time_Days\"], y=df_merged[\"Production_Delay_Days\"])\n",
    "plt.xlabel(\"Supplier Lead Time (Days)\")\n",
    "plt.ylabel(\"Production Delay (Days)\")\n",
    "plt.title(\"Supplier Lead Time vs. Production Delay\")\n",
    "plt.grid(True)\n",
    "plt.show()"
   ]
  },
  {
   "cell_type": "markdown",
   "id": "4d5778dd-b4f8-4058-9473-e9efaadd780d",
   "metadata": {},
   "source": [
    "5) Identify Products With Low Inventory"
   ]
  },
  {
   "cell_type": "code",
   "execution_count": 299,
   "id": "18867d4e-a122-40f8-bd5c-b95c80ce750e",
   "metadata": {},
   "outputs": [
    {
     "name": "stdout",
     "output_type": "stream",
     "text": [
      "Empty DataFrame\n",
      "Columns: [Product_ID, Product_Name, Quantity_Available, Reorder_Level, Warehouse_Location, Supplier_ID]\n",
      "Index: []\n"
     ]
    }
   ],
   "source": [
    "# Identify products with stock below reorder level\n",
    "\n",
    "low_inventory = df_inventory[df_inventory[\"Quantity_Available\"] <= df_inventory[\"Reorder_Level\"]]\n",
    "print(low_inventory)\n",
    "\n"
   ]
  },
  {
   "cell_type": "code",
   "execution_count": 285,
   "id": "b2ed9e25-5f63-43be-b3b5-e49e9bed31b9",
   "metadata": {},
   "outputs": [],
   "source": [
    "# Merge Inventory with Sales to see if stock-outs affect sales\n",
    "\n",
    "df_sales_inventory = df_sales.merge(df_inventory, on=\"Product_ID\", how=\"left\")\n"
   ]
  },
  {
   "cell_type": "code",
   "execution_count": 329,
   "id": "31cb9f12-4f92-4dc7-9d5c-660b386b1576",
   "metadata": {},
   "outputs": [],
   "source": [
    "# Group by Product_ID and check total sales vs. inventory levels\n",
    "\n",
    "sales_vs_inventory = df_sales_inventory.groupby(\"Product_ID\")[[\"Quantity_Available\", \"Quantity_Sold\"]].sum()\n"
   ]
  },
  {
   "cell_type": "code",
   "execution_count": 311,
   "id": "dbe91ad2-7159-4f1b-a23c-6727102e45cf",
   "metadata": {},
   "outputs": [
    {
     "data": {
      "image/png": "[encoded data removed]",
      "text/plain": [
       "<Figure size 800x500 with 1 Axes>"
      ]
     },
     "metadata": {},
     "output_type": "display_data"
    }
   ],
   "source": [
    "#Visualization\n",
    "\n",
    "plt.figure(figsize=(8, 5))\n",
    "sns.barplot(x=sales_vs_inventory.index, y=sales_vs_inventory[\"Quantity_Available\"], color=\"blue\", label=\"Available Stock\")\n",
    "sns.barplot(x=sales_vs_inventory.index, y=sales_vs_inventory[\"Quantity_Sold\"], color=\"red\", label=\"Total Sales\")\n",
    "plt.xticks(rotation=90)\n",
    "plt.xlabel(\"Product ID\")\n",
    "plt.ylabel(\"Quantity\")\n",
    "plt.title(\"Inventory vs. Sales\")\n",
    "plt.legend()\n",
    "plt.show()\n"
   ]
  },
  {
   "cell_type": "code",
   "execution_count": null,
   "id": "e37a216b-e58f-49c9-ba72-7b7c9499039e",
   "metadata": {},
   "outputs": [],
   "source": [
    "\n"
   ]
  }
 ],
 "metadata": {
  "kernelspec": {
   "display_name": "Python [conda env:base] *",
   "language": "python",
   "name": "conda-base-py"
  },
  "language_info": {
   "codemirror_mode": {
    "name": "ipython",
    "version": 3
   },
   "file_extension": ".py",
   "mimetype": "text/x-python",
   "name": "python",
   "nbconvert_exporter": "python",
   "pygments_lexer": "ipython3",
   "version": "3.12.7"
  }
 },
 "nbformat": 4,
 "nbformat_minor": 5
}
